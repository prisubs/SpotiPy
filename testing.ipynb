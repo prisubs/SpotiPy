{
 "cells": [
  {
   "cell_type": "code",
   "execution_count": 1,
   "metadata": {},
   "outputs": [],
   "source": [
    "import pandas as pd\n",
    "import numpy as np\n",
    "import requests\n",
    "from bs4 import BeautifulSoup\n",
    "import re\n",
    "import lyricsgenius"
   ]
  },
  {
   "cell_type": "code",
   "execution_count": 2,
   "metadata": {},
   "outputs": [],
   "source": [
    "# scraping code\n",
    "\n",
    "# constructs dataframe for a user playlist\n",
    "def playlist_df(url, genius_key):\n",
    "    titles = scrape_titles(url)\n",
    "    artists = scrape_artists(url)\n",
    "\n",
    "    df = pd.DataFrame({\n",
    "        \"title\": titles,\n",
    "        \"artist\": artists,\n",
    "    })\n",
    "\n",
    "    df[\"lyrics\"] = df.apply(lambda x: grab_song(x.title, x.artist, genius_key), axis=1)\n",
    "\n",
    "    return df\n",
    "\n",
    "# lyrics for a song and artist pair\n",
    "def grab_song(title, artist, key):\n",
    "    genius = lyricsgenius.Genius(key)\n",
    "    song = genius.search_song(title, artist)\n",
    "\n",
    "    if song:\n",
    "        return str(song.lyrics)\n",
    "    elif artist == \"\":\n",
    "        return \"no lyrics found\"\n",
    "    else:\n",
    "        return grab_song(title, \"\", key)\n",
    "\n",
    "# Base scraping function\n",
    "def scrape_something(url, classname, single_val=False):\n",
    "    page = requests.get(url)\n",
    "    soup = BeautifulSoup(page.content, 'html.parser')\n",
    "\n",
    "    result = soup.find_all(class_ = classname)\n",
    "    result = pd.Series(result).apply(str)\n",
    "\n",
    "    html_cleaner = lambda text: re.sub(\"<.*?>\", \"\", text)\n",
    "    result = result.apply(html_cleaner)\n",
    "\n",
    "    if single_val:\n",
    "        return result[0]\n",
    "    else:\n",
    "        return result\n",
    "\n",
    "# Titles for a single playlist\n",
    "def scrape_titles(query):\n",
    "    song_titles = scrape_something(query, \"track-name\")\n",
    "    return song_titles\n",
    "\n",
    "# Artists for a single playlist\n",
    "def scrape_artists(query):\n",
    "    artists = scrape_something(query, \"artists-albums\")\n",
    "    artists = artists.apply(clean_artists)\n",
    "    return artists\n",
    "\n",
    "# Cleaning the dot and extra space around artist name\n",
    "def clean_artists(artist_name):\n",
    "    x = artist_name.split(\"•\")[0]\n",
    "    return re.sub('\\s+', ' ', x).strip()\n",
    "\n",
    "# Name for a single user\n",
    "def scrape_name(query):\n",
    "    name = scrape_something(query, \"view-header\", single_val=True)\n",
    "    return name\n",
    "\n",
    "# List of playlist titles and URLs (for further analysis) for a single user\n",
    "def scrape_user_playlists(query):\n",
    "    playlists = scrape_something(query, \"cover playlist\")\n",
    "    return playlists"
   ]
  },
  {
   "cell_type": "code",
   "execution_count": 3,
   "metadata": {},
   "outputs": [
    {
     "data": {
      "text/plain": [
       "0    bollywood\n",
       "1          pop\n",
       "2         kpop\n",
       "dtype: object"
      ]
     },
     "execution_count": 3,
     "metadata": {},
     "output_type": "execute_result"
    }
   ],
   "source": [
    "user_url = \"https://open.spotify.com/user/priankasubs?si=dIr00M7sQUuZ4fUdbkuBnw\"\n",
    "scrape_user_playlists(user_url)"
   ]
  },
  {
   "cell_type": "code",
   "execution_count": 4,
   "metadata": {},
   "outputs": [
    {
     "data": {
      "text/plain": [
       "'priankasubs'"
      ]
     },
     "execution_count": 4,
     "metadata": {},
     "output_type": "execute_result"
    }
   ],
   "source": [
    "scrape_name(user_url)"
   ]
  },
  {
   "cell_type": "code",
   "execution_count": 5,
   "metadata": {},
   "outputs": [
    {
     "data": {
      "text/plain": [
       "['https://www.spotify.com/us/legal/cookies-vendor-list/',\n",
       " 'https://www.spotify.com/legal/cookies-policy/',\n",
       " 'https://support.spotify.com/using_spotify/the_basics/webplayer',\n",
       " 'https://www.spotify.com/download',\n",
       " '/browse',\n",
       " '/playlist/03WmYJPovtBJNRoYENKuOw?si=dIr00M7sQUuZ4fUdbkuBnw',\n",
       " '/playlist/4vykLHrwiPXfS6HnfnM2CU?si=dIr00M7sQUuZ4fUdbkuBnw',\n",
       " '/playlist/4Rbe8cn4gxJQnotZeIPSP8?si=dIr00M7sQUuZ4fUdbkuBnw',\n",
       " '/browse',\n",
       " 'https://www.spotify.com/legal/',\n",
       " 'https://www.spotify.com/legal/privacy-policy/',\n",
       " 'https://www.spotify.com/legal/cookies-policy/',\n",
       " 'https://www.spotify.com/legal/privacy-policy/#s3']"
      ]
     },
     "execution_count": 5,
     "metadata": {},
     "output_type": "execute_result"
    }
   ],
   "source": [
    "from lxml import html\n",
    "import requests\n",
    "\n",
    "page = requests.get(user_url)\n",
    "webpage = html.fromstring(page.content)\n",
    "\n",
    "urls = webpage.xpath('//a/@href')\n",
    "urls"
   ]
  },
  {
   "cell_type": "code",
   "execution_count": 6,
   "metadata": {},
   "outputs": [
    {
     "data": {
      "text/plain": [
       "['https://open.spotify.com/playlist/03WmYJPovtBJNRoYENKuOw?si=dIr00M7sQUuZ4fUdbkuBnw',\n",
       " 'https://open.spotify.com/playlist/4vykLHrwiPXfS6HnfnM2CU?si=dIr00M7sQUuZ4fUdbkuBnw',\n",
       " 'https://open.spotify.com/playlist/4Rbe8cn4gxJQnotZeIPSP8?si=dIr00M7sQUuZ4fUdbkuBnw']"
      ]
     },
     "execution_count": 6,
     "metadata": {},
     "output_type": "execute_result"
    }
   ],
   "source": [
    "# need to construct the urls with a regex\n",
    "\n",
    "# use a regex to clean out extraneous urls + construct full url list\n",
    "def process_playlist_urls(urls):\n",
    "    spotify_base = \"https://open.spotify.com\"\n",
    "    cleaned = []\n",
    "    for url in urls:\n",
    "        if re.findall(r\"\\/playlist\\/.*\", url):\n",
    "            cleaned.append(url)\n",
    "    cleaned = [spotify_base + url for url in cleaned]\n",
    "    return cleaned\n",
    "\n",
    "process_playlist_urls(urls)"
   ]
  },
  {
   "cell_type": "code",
   "execution_count": 7,
   "metadata": {},
   "outputs": [],
   "source": [
    "def pull_user_playlists(url):\n",
    "    playlist_names = scrape_user_playlists(url)\n",
    "    \n",
    "    # get playlist urls\n",
    "    page = requests.get(url)\n",
    "    webpage = html.fromstring(page.content)\n",
    "    urls = webpage.xpath('//a/@href')\n",
    "    \n",
    "    spotify_base = \"https://open.spotify.com\"\n",
    "    cleaned = []\n",
    "    for url in urls:\n",
    "        if re.findall(r\"\\/playlist\\/.*\", url):\n",
    "            cleaned.append(url)\n",
    "    cleaned = [spotify_base + url for url in cleaned]\n",
    "    df = pd.DataFrame(list(zip(playlist_names, cleaned)), columns =['playlist_name', 'playlist_url']) \n",
    "    return df"
   ]
  },
  {
   "cell_type": "code",
   "execution_count": 8,
   "metadata": {},
   "outputs": [
    {
     "data": {
      "text/html": [
       "<div>\n",
       "<style scoped>\n",
       "    .dataframe tbody tr th:only-of-type {\n",
       "        vertical-align: middle;\n",
       "    }\n",
       "\n",
       "    .dataframe tbody tr th {\n",
       "        vertical-align: top;\n",
       "    }\n",
       "\n",
       "    .dataframe thead th {\n",
       "        text-align: right;\n",
       "    }\n",
       "</style>\n",
       "<table border=\"1\" class=\"dataframe\">\n",
       "  <thead>\n",
       "    <tr style=\"text-align: right;\">\n",
       "      <th></th>\n",
       "      <th>playlist_name</th>\n",
       "      <th>playlist_url</th>\n",
       "    </tr>\n",
       "  </thead>\n",
       "  <tbody>\n",
       "    <tr>\n",
       "      <th>0</th>\n",
       "      <td>bollywood</td>\n",
       "      <td>https://open.spotify.com/playlist/03WmYJPovtBJ...</td>\n",
       "    </tr>\n",
       "    <tr>\n",
       "      <th>1</th>\n",
       "      <td>pop</td>\n",
       "      <td>https://open.spotify.com/playlist/4vykLHrwiPXf...</td>\n",
       "    </tr>\n",
       "    <tr>\n",
       "      <th>2</th>\n",
       "      <td>kpop</td>\n",
       "      <td>https://open.spotify.com/playlist/4Rbe8cn4gxJQ...</td>\n",
       "    </tr>\n",
       "  </tbody>\n",
       "</table>\n",
       "</div>"
      ],
      "text/plain": [
       "  playlist_name                                       playlist_url\n",
       "0     bollywood  https://open.spotify.com/playlist/03WmYJPovtBJ...\n",
       "1           pop  https://open.spotify.com/playlist/4vykLHrwiPXf...\n",
       "2          kpop  https://open.spotify.com/playlist/4Rbe8cn4gxJQ..."
      ]
     },
     "execution_count": 8,
     "metadata": {},
     "output_type": "execute_result"
    }
   ],
   "source": [
    "pull_user_playlists(user_url)"
   ]
  },
  {
   "cell_type": "code",
   "execution_count": 9,
   "metadata": {},
   "outputs": [],
   "source": [
    "genius_key = \"0AGGE0X9UYCDMkHxZWHojX0uBIaoHNZCQbfJO8hFx0g7nj9OJYEPJl2NzdBDdgtJ\""
   ]
  },
  {
   "cell_type": "code",
   "execution_count": 10,
   "metadata": {},
   "outputs": [],
   "source": [
    "# get lyrics and data for playlists given df of names and urls\n",
    "def playlist_datagrab(df, token):\n",
    "    urls = df[\"playlist_url\"].tolist()\n",
    "    result = {}\n",
    "    for url in urls:\n",
    "        p_df = playlist_df(url, token)\n",
    "        result[url] = p_df\n",
    "    return result"
   ]
  },
  {
   "cell_type": "code",
   "execution_count": 11,
   "metadata": {},
   "outputs": [],
   "source": [
    "class SpotifyUser:\n",
    "    def __init__(self, url):\n",
    "        self.name = scrape_name(url)\n",
    "        self.playlist_metadata = pull_user_playlists(url)\n",
    "        self.num_playlists = len(self.playlist_metadata.index)\n",
    "        self.playlist_data = playlist_datagrab(self.playlist_metadata, genius_key)"
   ]
  },
  {
   "cell_type": "code",
   "execution_count": 13,
   "metadata": {},
   "outputs": [
    {
     "name": "stdout",
     "output_type": "stream",
     "text": [
      "Searching for \"Kal Ho Naa Ho\" by Shankar-Ehsaan-Loy, Sonu Nigam...\n",
      "Done.\n",
      "Searching for \"Nagada Sang Dhol\" by Shreya Ghoshal, Osman Mir...\n",
      "Done.\n",
      "Searching for \"Channa Mereya\" by Pritam, Arijit Singh...\n",
      "Done.\n",
      "Searching for \"Sugar\" by Maroon 5...\n",
      "Done.\n",
      "Searching for \"Havana (feat. Young Thug)\" by Camila Cabello, Young Thug...\n",
      "Done.\n",
      "Searching for \"Cake By The Ocean\" by DNCE...\n",
      "Done.\n",
      "Searching for \"DNA\" by BTS...\n",
      "Done.\n",
      "Searching for \"LOVE SCENARIO\" by iKON...\n",
      "Done.\n",
      "Searching for \"BBoom BBoom\" by MOMOLAND...\n",
      "Done.\n"
     ]
    }
   ],
   "source": [
    "x = SpotifyUser(user_url)"
   ]
  },
  {
   "cell_type": "code",
   "execution_count": 14,
   "metadata": {},
   "outputs": [
    {
     "data": {
      "text/plain": [
       "{'https://open.spotify.com/playlist/03WmYJPovtBJNRoYENKuOw?si=dIr00M7sQUuZ4fUdbkuBnw':               title                          artist  \\\n",
       " 0     Kal Ho Naa Ho  Shankar-Ehsaan-Loy, Sonu Nigam   \n",
       " 1  Nagada Sang Dhol       Shreya Ghoshal, Osman Mir   \n",
       " 2     Channa Mereya            Pritam, Arijit Singh   \n",
       " \n",
       "                                               lyrics  \n",
       " 0  [Chorus]\\nहर घड़ी बदल रही है रूप ज़िंदगी\\nछाँव...  \n",
       " 1  [Chorus 1]\\nहे धिन तड़ाक धिन तड़ाक\\nआजा उड़ के...  \n",
       " 2  [Verse 1]\\nअच्छा चलता हूँ\\nदुआओं में याद रखना\\...  ,\n",
       " 'https://open.spotify.com/playlist/4vykLHrwiPXfS6HnfnM2CU?si=dIr00M7sQUuZ4fUdbkuBnw':                        title                      artist  \\\n",
       " 0                      Sugar                    Maroon 5   \n",
       " 1  Havana (feat. Young Thug)  Camila Cabello, Young Thug   \n",
       " 2          Cake By The Ocean                        DNCE   \n",
       " \n",
       "                                               lyrics  \n",
       " 0  [Directed by David Dobkin]\\n\\n[Verse 1]\\nI'm h...  \n",
       " 1  Oh!, so you want to hear the verse erh?\\nI dey...  \n",
       " 2  [Intro]\\nNah, nah, nah\\nCake by the ocean\\n\\n[...  ,\n",
       " 'https://open.spotify.com/playlist/4Rbe8cn4gxJQnotZeIPSP8?si=dIr00M7sQUuZ4fUdbkuBnw':            title    artist                                             lyrics\n",
       " 0            DNA       BTS  [방탄소년단의 DNA 가사]\\n\\n[Verse 1: V]\\n첫눈에 널 알아보게 됐어...\n",
       " 1  LOVE SCENARIO      iKON  [BI]\\n사랑을 했다 우리가 만나\\n지우지 못할 추억이 됐다\\n볼만한 melodr...\n",
       " 2    BBoom BBoom  MOMOLAND  [모모랜드 \"뿜뿜\" 가사]\\n\\n[Intro: All]\\nJust feel it, ...}"
      ]
     },
     "execution_count": 14,
     "metadata": {},
     "output_type": "execute_result"
    }
   ],
   "source": [
    "x.playlist_data"
   ]
  },
  {
   "cell_type": "code",
   "execution_count": null,
   "metadata": {},
   "outputs": [],
   "source": []
  }
 ],
 "metadata": {
  "kernelspec": {
   "display_name": "Python 3",
   "language": "python",
   "name": "python3"
  },
  "language_info": {
   "codemirror_mode": {
    "name": "ipython",
    "version": 3
   },
   "file_extension": ".py",
   "mimetype": "text/x-python",
   "name": "python",
   "nbconvert_exporter": "python",
   "pygments_lexer": "ipython3",
   "version": "3.7.3"
  }
 },
 "nbformat": 4,
 "nbformat_minor": 2
}
