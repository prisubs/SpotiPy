{
 "cells": [
  {
   "cell_type": "code",
   "execution_count": 5,
   "metadata": {},
   "outputs": [],
   "source": [
    "import pandas as pd\n",
    "import numpy as np\n",
    "import requests\n",
    "from bs4 import BeautifulSoup\n",
    "import re\n",
    "import lyricsgenius"
   ]
  },
  {
   "cell_type": "code",
   "execution_count": 2,
   "metadata": {},
   "outputs": [],
   "source": [
    "# scraping code\n",
    "\n",
    "# constructs dataframe for a user playlist\n",
    "def playlist_df(url, genius_key):\n",
    "    titles = scrape_titles(url)\n",
    "    artists = scrape_artists(url)\n",
    "\n",
    "    df = pd.DataFrame({\n",
    "        \"title\": titles,\n",
    "        \"artist\": artists,\n",
    "    })\n",
    "\n",
    "    df[\"lyrics\"] = df.apply(lambda x: grab_song(x.title, x.artist, genius_key), axis=1)\n",
    "\n",
    "    return df\n",
    "\n",
    "# lyrics for a song and artist pair\n",
    "def grab_song(title, artist, key):\n",
    "    genius = lyricsgenius.Genius(key)\n",
    "    song = genius.search_song(title, artist)\n",
    "\n",
    "    if song:\n",
    "        return str(song.lyrics)\n",
    "    elif artist == \"\":\n",
    "        return \"no lyrics found\"\n",
    "    else:\n",
    "        return grab_song(title, \"\", key)\n",
    "\n",
    "# Base scraping function\n",
    "def scrape_something(url, classname, single_val=False):\n",
    "    page = requests.get(url)\n",
    "    soup = BeautifulSoup(page.content, 'html.parser')\n",
    "\n",
    "    result = soup.find_all(class_ = classname)\n",
    "    result = pd.Series(result).apply(str)\n",
    "\n",
    "    html_cleaner = lambda text: re.sub(\"<.*?>\", \"\", text)\n",
    "    result = result.apply(html_cleaner)\n",
    "\n",
    "    if single_val:\n",
    "        return result[0]\n",
    "    else:\n",
    "        return result\n",
    "\n",
    "# Titles for a single playlist\n",
    "def scrape_titles(query):\n",
    "    song_titles = scrape_something(query, \"track-name\")\n",
    "    return song_titles\n",
    "\n",
    "# Artists for a single playlist\n",
    "def scrape_artists(query):\n",
    "    artists = scrape_something(query, \"artists-albums\")\n",
    "    artists = artists.apply(clean_artists)\n",
    "    return artists\n",
    "\n",
    "# Cleaning the dot and extra space around artist name\n",
    "def clean_artists(artist_name):\n",
    "    x = artist_name.split(\"•\")[0]\n",
    "    return re.sub('\\s+', ' ', x).strip()\n",
    "\n",
    "# Name for a single user\n",
    "def scrape_name(query):\n",
    "    name = scrape_something(query, \"view-header\", single_val=True)\n",
    "    return name\n",
    "\n",
    "# List of playlist titles and URLs (for further analysis) for a single user\n",
    "def scrape_user_playlists(query):\n",
    "    playlists = scrape_something(query, \"cover playlist\")\n",
    "    return playlists"
   ]
  },
  {
   "cell_type": "code",
   "execution_count": 3,
   "metadata": {},
   "outputs": [
    {
     "data": {
      "text/plain": [
       "0    bollywood\n",
       "1          pop\n",
       "2         kpop\n",
       "dtype: object"
      ]
     },
     "execution_count": 3,
     "metadata": {},
     "output_type": "execute_result"
    }
   ],
   "source": [
    "user_url = \"https://open.spotify.com/user/priankasubs?si=dIr00M7sQUuZ4fUdbkuBnw\"\n",
    "scrape_user_playlists(user_url)"
   ]
  },
  {
   "cell_type": "code",
   "execution_count": 4,
   "metadata": {},
   "outputs": [
    {
     "data": {
      "text/plain": [
       "'priankasubs'"
      ]
     },
     "execution_count": 4,
     "metadata": {},
     "output_type": "execute_result"
    }
   ],
   "source": [
    "scrape_name(user_url)"
   ]
  },
  {
   "cell_type": "code",
   "execution_count": 5,
   "metadata": {},
   "outputs": [
    {
     "data": {
      "text/plain": [
       "['https://www.spotify.com/us/legal/cookies-vendor-list/',\n",
       " 'https://www.spotify.com/legal/cookies-policy/',\n",
       " 'https://support.spotify.com/using_spotify/the_basics/webplayer',\n",
       " 'https://www.spotify.com/download',\n",
       " '/browse',\n",
       " '/playlist/03WmYJPovtBJNRoYENKuOw?si=dIr00M7sQUuZ4fUdbkuBnw',\n",
       " '/playlist/4vykLHrwiPXfS6HnfnM2CU?si=dIr00M7sQUuZ4fUdbkuBnw',\n",
       " '/playlist/4Rbe8cn4gxJQnotZeIPSP8?si=dIr00M7sQUuZ4fUdbkuBnw',\n",
       " '/browse',\n",
       " 'https://www.spotify.com/legal/',\n",
       " 'https://www.spotify.com/legal/privacy-policy/',\n",
       " 'https://www.spotify.com/legal/cookies-policy/',\n",
       " 'https://www.spotify.com/legal/privacy-policy/#s3']"
      ]
     },
     "execution_count": 5,
     "metadata": {},
     "output_type": "execute_result"
    }
   ],
   "source": [
    "from lxml import html\n",
    "import requests\n",
    "\n",
    "page = requests.get(user_url)\n",
    "webpage = html.fromstring(page.content)\n",
    "\n",
    "urls = webpage.xpath('//a/@href')\n",
    "urls"
   ]
  },
  {
   "cell_type": "code",
   "execution_count": 6,
   "metadata": {},
   "outputs": [
    {
     "data": {
      "text/plain": [
       "['https://open.spotify.com/playlist/03WmYJPovtBJNRoYENKuOw?si=dIr00M7sQUuZ4fUdbkuBnw',\n",
       " 'https://open.spotify.com/playlist/4vykLHrwiPXfS6HnfnM2CU?si=dIr00M7sQUuZ4fUdbkuBnw',\n",
       " 'https://open.spotify.com/playlist/4Rbe8cn4gxJQnotZeIPSP8?si=dIr00M7sQUuZ4fUdbkuBnw']"
      ]
     },
     "execution_count": 6,
     "metadata": {},
     "output_type": "execute_result"
    }
   ],
   "source": [
    "# need to construct the urls with a regex\n",
    "\n",
    "# use a regex to clean out extraneous urls + construct full url list\n",
    "def process_playlist_urls(urls):\n",
    "    spotify_base = \"https://open.spotify.com\"\n",
    "    cleaned = []\n",
    "    for url in urls:\n",
    "        if re.findall(r\"\\/playlist\\/.*\", url):\n",
    "            cleaned.append(url)\n",
    "    cleaned = [spotify_base + url for url in cleaned]\n",
    "    return cleaned\n",
    "\n",
    "process_playlist_urls(urls)"
   ]
  },
  {
   "cell_type": "code",
   "execution_count": 7,
   "metadata": {},
   "outputs": [],
   "source": [
    "def pull_user_playlists(url):\n",
    "    playlist_names = scrape_user_playlists(url)\n",
    "    \n",
    "    # get playlist urls\n",
    "    page = requests.get(url)\n",
    "    webpage = html.fromstring(page.content)\n",
    "    urls = webpage.xpath('//a/@href')\n",
    "    \n",
    "    spotify_base = \"https://open.spotify.com\"\n",
    "    cleaned = []\n",
    "    for url in urls:\n",
    "        if re.findall(r\"\\/playlist\\/.*\", url):\n",
    "            cleaned.append(url)\n",
    "    cleaned = [spotify_base + url for url in cleaned]\n",
    "    df = pd.DataFrame(list(zip(playlist_names, cleaned)), columns =['playlist_name', 'playlist_url']) \n",
    "    return df"
   ]
  },
  {
   "cell_type": "code",
   "execution_count": 8,
   "metadata": {},
   "outputs": [
    {
     "data": {
      "text/html": [
       "<div>\n",
       "<style scoped>\n",
       "    .dataframe tbody tr th:only-of-type {\n",
       "        vertical-align: middle;\n",
       "    }\n",
       "\n",
       "    .dataframe tbody tr th {\n",
       "        vertical-align: top;\n",
       "    }\n",
       "\n",
       "    .dataframe thead th {\n",
       "        text-align: right;\n",
       "    }\n",
       "</style>\n",
       "<table border=\"1\" class=\"dataframe\">\n",
       "  <thead>\n",
       "    <tr style=\"text-align: right;\">\n",
       "      <th></th>\n",
       "      <th>playlist_name</th>\n",
       "      <th>playlist_url</th>\n",
       "    </tr>\n",
       "  </thead>\n",
       "  <tbody>\n",
       "    <tr>\n",
       "      <th>0</th>\n",
       "      <td>bollywood</td>\n",
       "      <td>https://open.spotify.com/playlist/03WmYJPovtBJ...</td>\n",
       "    </tr>\n",
       "    <tr>\n",
       "      <th>1</th>\n",
       "      <td>pop</td>\n",
       "      <td>https://open.spotify.com/playlist/4vykLHrwiPXf...</td>\n",
       "    </tr>\n",
       "    <tr>\n",
       "      <th>2</th>\n",
       "      <td>kpop</td>\n",
       "      <td>https://open.spotify.com/playlist/4Rbe8cn4gxJQ...</td>\n",
       "    </tr>\n",
       "  </tbody>\n",
       "</table>\n",
       "</div>"
      ],
      "text/plain": [
       "  playlist_name                                       playlist_url\n",
       "0     bollywood  https://open.spotify.com/playlist/03WmYJPovtBJ...\n",
       "1           pop  https://open.spotify.com/playlist/4vykLHrwiPXf...\n",
       "2          kpop  https://open.spotify.com/playlist/4Rbe8cn4gxJQ..."
      ]
     },
     "execution_count": 8,
     "metadata": {},
     "output_type": "execute_result"
    }
   ],
   "source": [
    "pull_user_playlists(user_url)"
   ]
  },
  {
   "cell_type": "code",
   "execution_count": 9,
   "metadata": {},
   "outputs": [],
   "source": [
    "genius_key = \"0AGGE0X9UYCDMkHxZWHojX0uBIaoHNZCQbfJO8hFx0g7nj9OJYEPJl2NzdBDdgtJ\""
   ]
  },
  {
   "cell_type": "code",
   "execution_count": 10,
   "metadata": {},
   "outputs": [],
   "source": [
    "# get lyrics and data for playlists given df of names and urls\n",
    "def playlist_datagrab(df, token):\n",
    "    urls = df[\"playlist_url\"].tolist()\n",
    "    result = {}\n",
    "    for url in urls:\n",
    "        p_df = playlist_df(url, token)\n",
    "        result[url] = p_df\n",
    "    return result"
   ]
  },
  {
   "cell_type": "code",
   "execution_count": 11,
   "metadata": {},
   "outputs": [],
   "source": [
    "class SpotifyUser:\n",
    "    def __init__(self, url):\n",
    "        self.name = scrape_name(url)\n",
    "        self.playlist_metadata = pull_user_playlists(url)\n",
    "        self.num_playlists = len(self.playlist_metadata.index)\n",
    "        self.playlist_data = playlist_datagrab(self.playlist_metadata, genius_key)"
   ]
  },
  {
   "cell_type": "code",
   "execution_count": 13,
   "metadata": {},
   "outputs": [
    {
     "name": "stdout",
     "output_type": "stream",
     "text": [
      "Searching for \"Kal Ho Naa Ho\" by Shankar-Ehsaan-Loy, Sonu Nigam...\n",
      "Done.\n",
      "Searching for \"Nagada Sang Dhol\" by Shreya Ghoshal, Osman Mir...\n",
      "Done.\n",
      "Searching for \"Channa Mereya\" by Pritam, Arijit Singh...\n",
      "Done.\n",
      "Searching for \"Sugar\" by Maroon 5...\n",
      "Done.\n",
      "Searching for \"Havana (feat. Young Thug)\" by Camila Cabello, Young Thug...\n",
      "Done.\n",
      "Searching for \"Cake By The Ocean\" by DNCE...\n",
      "Done.\n",
      "Searching for \"DNA\" by BTS...\n",
      "Done.\n",
      "Searching for \"LOVE SCENARIO\" by iKON...\n",
      "Done.\n",
      "Searching for \"BBoom BBoom\" by MOMOLAND...\n",
      "Done.\n"
     ]
    }
   ],
   "source": [
    "x = SpotifyUser(user_url)"
   ]
  },
  {
   "cell_type": "code",
   "execution_count": 14,
   "metadata": {},
   "outputs": [
    {
     "data": {
      "text/plain": [
       "{'https://open.spotify.com/playlist/03WmYJPovtBJNRoYENKuOw?si=dIr00M7sQUuZ4fUdbkuBnw':               title                          artist  \\\n",
       " 0     Kal Ho Naa Ho  Shankar-Ehsaan-Loy, Sonu Nigam   \n",
       " 1  Nagada Sang Dhol       Shreya Ghoshal, Osman Mir   \n",
       " 2     Channa Mereya            Pritam, Arijit Singh   \n",
       " \n",
       "                                               lyrics  \n",
       " 0  [Chorus]\\nहर घड़ी बदल रही है रूप ज़िंदगी\\nछाँव...  \n",
       " 1  [Chorus 1]\\nहे धिन तड़ाक धिन तड़ाक\\nआजा उड़ के...  \n",
       " 2  [Verse 1]\\nअच्छा चलता हूँ\\nदुआओं में याद रखना\\...  ,\n",
       " 'https://open.spotify.com/playlist/4vykLHrwiPXfS6HnfnM2CU?si=dIr00M7sQUuZ4fUdbkuBnw':                        title                      artist  \\\n",
       " 0                      Sugar                    Maroon 5   \n",
       " 1  Havana (feat. Young Thug)  Camila Cabello, Young Thug   \n",
       " 2          Cake By The Ocean                        DNCE   \n",
       " \n",
       "                                               lyrics  \n",
       " 0  [Directed by David Dobkin]\\n\\n[Verse 1]\\nI'm h...  \n",
       " 1  Oh!, so you want to hear the verse erh?\\nI dey...  \n",
       " 2  [Intro]\\nNah, nah, nah\\nCake by the ocean\\n\\n[...  ,\n",
       " 'https://open.spotify.com/playlist/4Rbe8cn4gxJQnotZeIPSP8?si=dIr00M7sQUuZ4fUdbkuBnw':            title    artist                                             lyrics\n",
       " 0            DNA       BTS  [방탄소년단의 DNA 가사]\\n\\n[Verse 1: V]\\n첫눈에 널 알아보게 됐어...\n",
       " 1  LOVE SCENARIO      iKON  [BI]\\n사랑을 했다 우리가 만나\\n지우지 못할 추억이 됐다\\n볼만한 melodr...\n",
       " 2    BBoom BBoom  MOMOLAND  [모모랜드 \"뿜뿜\" 가사]\\n\\n[Intro: All]\\nJust feel it, ...}"
      ]
     },
     "execution_count": 14,
     "metadata": {},
     "output_type": "execute_result"
    }
   ],
   "source": [
    "x.playlist_data"
   ]
  },
  {
   "cell_type": "code",
   "execution_count": 1,
   "metadata": {},
   "outputs": [
    {
     "name": "stdout",
     "output_type": "stream",
     "text": [
      "Searching for \"Kal Ho Naa Ho\" by Shankar-Ehsaan-Loy, Sonu Nigam...\n",
      "Done.\n",
      "Searching for \"Nagada Sang Dhol\" by Shreya Ghoshal, Osman Mir...\n",
      "Done.\n",
      "Searching for \"Channa Mereya\" by Pritam, Arijit Singh...\n",
      "Done.\n",
      "Searching for \"Sugar\" by Maroon 5...\n",
      "Done.\n",
      "Searching for \"Havana (feat. Young Thug)\" by Camila Cabello, Young Thug...\n",
      "Done.\n",
      "Searching for \"Cake By The Ocean\" by DNCE...\n",
      "Done.\n",
      "Searching for \"DNA\" by BTS...\n",
      "Done.\n",
      "Searching for \"LOVE SCENARIO\" by iKON...\n",
      "Done.\n",
      "Searching for \"BBoom BBoom\" by MOMOLAND...\n",
      "Done.\n",
      "User: priankasubs\n",
      "Number of playlists: 3\n",
      "Playlists\n",
      "**************\n",
      "1. bollywood\n",
      "2. pop\n",
      "3. kpop\n"
     ]
    }
   ],
   "source": [
    "# after class is constructed should be able to just run this cell + disregard above\n",
    "from spotifyuser import SpotifyUser\n",
    "\n",
    "# construct test user\n",
    "genius_key = \"0AGGE0X9UYCDMkHxZWHojX0uBIaoHNZCQbfJO8hFx0g7nj9OJYEPJl2NzdBDdgtJ\"\n",
    "\n",
    "# change this for other spotify users\n",
    "user_url = \"https://open.spotify.com/user/priankasubs?si=dIr00M7sQUuZ4fUdbkuBnw\"\n",
    "\n",
    "# represents @priankasubs test user\n",
    "x = SpotifyUser(user_url, genius_key)\n",
    "x.user_summary()"
   ]
  },
  {
   "cell_type": "code",
   "execution_count": 2,
   "metadata": {},
   "outputs": [
    {
     "data": {
      "text/plain": [
       "{'https://open.spotify.com/playlist/03WmYJPovtBJNRoYENKuOw?si=dIr00M7sQUuZ4fUdbkuBnw':               title                          artist  \\\n",
       " 0     Kal Ho Naa Ho  Shankar-Ehsaan-Loy, Sonu Nigam   \n",
       " 1  Nagada Sang Dhol       Shreya Ghoshal, Osman Mir   \n",
       " 2     Channa Mereya            Pritam, Arijit Singh   \n",
       " \n",
       "                                               lyrics  \n",
       " 0  [Chorus]\\nहर घड़ी बदल रही है रूप ज़िंदगी\\nछाँव...  \n",
       " 1  [Chorus 1]\\nहे धिन तड़ाक धिन तड़ाक\\nआजा उड़ के...  \n",
       " 2  [Verse 1]\\nअच्छा चलता हूँ\\nदुआओं में याद रखना\\...  ,\n",
       " 'https://open.spotify.com/playlist/4vykLHrwiPXfS6HnfnM2CU?si=dIr00M7sQUuZ4fUdbkuBnw':                        title                      artist  \\\n",
       " 0                      Sugar                    Maroon 5   \n",
       " 1  Havana (feat. Young Thug)  Camila Cabello, Young Thug   \n",
       " 2          Cake By The Ocean                        DNCE   \n",
       " \n",
       "                                               lyrics  \n",
       " 0  [Directed by David Dobkin]\\n\\n[Verse 1]\\nI'm h...  \n",
       " 1  Oh!, so you want to hear the verse erh?\\nI dey...  \n",
       " 2  [Intro]\\nNah, nah, nah\\nCake by the ocean\\n\\n[...  ,\n",
       " 'https://open.spotify.com/playlist/4Rbe8cn4gxJQnotZeIPSP8?si=dIr00M7sQUuZ4fUdbkuBnw':            title    artist                                             lyrics\n",
       " 0            DNA       BTS  [방탄소년단의 DNA 가사]\\n\\n[Verse 1: V]\\n첫눈에 널 알아보게 됐어...\n",
       " 1  LOVE SCENARIO      iKON  [BI]\\n사랑을 했다 우리가 만나\\n지우지 못할 추억이 됐다\\n볼만한 melodr...\n",
       " 2    BBoom BBoom  MOMOLAND  [모모랜드 \"뿜뿜\" 가사]\\n\\n[Intro: All]\\nJust feel it, ...}"
      ]
     },
     "execution_count": 2,
     "metadata": {},
     "output_type": "execute_result"
    }
   ],
   "source": [
    "pdata = x.datagrab()\n",
    "pdata"
   ]
  },
  {
   "cell_type": "code",
   "execution_count": 3,
   "metadata": {},
   "outputs": [],
   "source": [
    "def merge_dfs(df_dict):\n",
    "    dfs = []\n",
    "    for df in df_dict:\n",
    "        dfs.append(df_dict[df])\n",
    "    df = pd.concat(dfs)\n",
    "    return df"
   ]
  },
  {
   "cell_type": "code",
   "execution_count": 7,
   "metadata": {},
   "outputs": [
    {
     "data": {
      "text/html": [
       "<div>\n",
       "<style scoped>\n",
       "    .dataframe tbody tr th:only-of-type {\n",
       "        vertical-align: middle;\n",
       "    }\n",
       "\n",
       "    .dataframe tbody tr th {\n",
       "        vertical-align: top;\n",
       "    }\n",
       "\n",
       "    .dataframe thead th {\n",
       "        text-align: right;\n",
       "    }\n",
       "</style>\n",
       "<table border=\"1\" class=\"dataframe\">\n",
       "  <thead>\n",
       "    <tr style=\"text-align: right;\">\n",
       "      <th></th>\n",
       "      <th>title</th>\n",
       "      <th>artist</th>\n",
       "      <th>lyrics</th>\n",
       "    </tr>\n",
       "  </thead>\n",
       "  <tbody>\n",
       "    <tr>\n",
       "      <th>0</th>\n",
       "      <td>Kal Ho Naa Ho</td>\n",
       "      <td>Shankar-Ehsaan-Loy, Sonu Nigam</td>\n",
       "      <td>[Chorus]\\nहर घड़ी बदल रही है रूप ज़िंदगी\\nछाँव...</td>\n",
       "    </tr>\n",
       "    <tr>\n",
       "      <th>1</th>\n",
       "      <td>Nagada Sang Dhol</td>\n",
       "      <td>Shreya Ghoshal, Osman Mir</td>\n",
       "      <td>[Chorus 1]\\nहे धिन तड़ाक धिन तड़ाक\\nआजा उड़ के...</td>\n",
       "    </tr>\n",
       "    <tr>\n",
       "      <th>2</th>\n",
       "      <td>Channa Mereya</td>\n",
       "      <td>Pritam, Arijit Singh</td>\n",
       "      <td>[Verse 1]\\nअच्छा चलता हूँ\\nदुआओं में याद रखना\\...</td>\n",
       "    </tr>\n",
       "    <tr>\n",
       "      <th>0</th>\n",
       "      <td>Sugar</td>\n",
       "      <td>Maroon 5</td>\n",
       "      <td>[Directed by David Dobkin]\\n\\n[Verse 1]\\nI'm h...</td>\n",
       "    </tr>\n",
       "    <tr>\n",
       "      <th>1</th>\n",
       "      <td>Havana (feat. Young Thug)</td>\n",
       "      <td>Camila Cabello, Young Thug</td>\n",
       "      <td>Oh!, so you want to hear the verse erh?\\nI dey...</td>\n",
       "    </tr>\n",
       "  </tbody>\n",
       "</table>\n",
       "</div>"
      ],
      "text/plain": [
       "                       title                          artist  \\\n",
       "0              Kal Ho Naa Ho  Shankar-Ehsaan-Loy, Sonu Nigam   \n",
       "1           Nagada Sang Dhol       Shreya Ghoshal, Osman Mir   \n",
       "2              Channa Mereya            Pritam, Arijit Singh   \n",
       "0                      Sugar                        Maroon 5   \n",
       "1  Havana (feat. Young Thug)      Camila Cabello, Young Thug   \n",
       "\n",
       "                                              lyrics  \n",
       "0  [Chorus]\\nहर घड़ी बदल रही है रूप ज़िंदगी\\nछाँव...  \n",
       "1  [Chorus 1]\\nहे धिन तड़ाक धिन तड़ाक\\nआजा उड़ के...  \n",
       "2  [Verse 1]\\nअच्छा चलता हूँ\\nदुआओं में याद रखना\\...  \n",
       "0  [Directed by David Dobkin]\\n\\n[Verse 1]\\nI'm h...  \n",
       "1  Oh!, so you want to hear the verse erh?\\nI dey...  "
      ]
     },
     "execution_count": 7,
     "metadata": {},
     "output_type": "execute_result"
    }
   ],
   "source": [
    "df = merge_dfs(pdata)\n",
    "df.head()"
   ]
  },
  {
   "cell_type": "code",
   "execution_count": 44,
   "metadata": {},
   "outputs": [],
   "source": [
    "# lang imports\n",
    "from textblob import TextBlob\n",
    "import re\n",
    "import pycountry\n",
    "\n",
    "# translate identified non-english text\n",
    "def to_english(lyr, lang):\n",
    "    if lang == 'en':\n",
    "        return lyr\n",
    "    else:\n",
    "        blob = TextBlob(lyr)\n",
    "        translation = blob.translate(to='en')\n",
    "        return str(translation)\n",
    "\n",
    "# identify non-english text, return detected language\n",
    "def detect_lang(lyr):\n",
    "    blob = TextBlob(lyr)\n",
    "    lang = blob.detect_language()\n",
    "    return lang\n",
    "\n",
    "# fix languages on each row of df\n",
    "def lang_transform(df):\n",
    "    df['lang'] = df[\"lyrics\"].apply(detect_lang)\n",
    "    df[\"english_lyrics\"] = df.apply(lambda x: to_english(x['lyrics'], x['lang']), axis=1)\n",
    "    return df"
   ]
  },
  {
   "cell_type": "code",
   "execution_count": 24,
   "metadata": {},
   "outputs": [
    {
     "data": {
      "text/html": [
       "<div>\n",
       "<style scoped>\n",
       "    .dataframe tbody tr th:only-of-type {\n",
       "        vertical-align: middle;\n",
       "    }\n",
       "\n",
       "    .dataframe tbody tr th {\n",
       "        vertical-align: top;\n",
       "    }\n",
       "\n",
       "    .dataframe thead th {\n",
       "        text-align: right;\n",
       "    }\n",
       "</style>\n",
       "<table border=\"1\" class=\"dataframe\">\n",
       "  <thead>\n",
       "    <tr style=\"text-align: right;\">\n",
       "      <th></th>\n",
       "      <th>title</th>\n",
       "      <th>artist</th>\n",
       "      <th>lyrics</th>\n",
       "      <th>lang</th>\n",
       "      <th>english_lyrics</th>\n",
       "    </tr>\n",
       "  </thead>\n",
       "  <tbody>\n",
       "    <tr>\n",
       "      <th>0</th>\n",
       "      <td>Kal Ho Naa Ho</td>\n",
       "      <td>Shankar-Ehsaan-Loy, Sonu Nigam</td>\n",
       "      <td>[Chorus]\\nहर घड़ी बदल रही है रूप ज़िंदगी\\nछाँव...</td>\n",
       "      <td>hi</td>\n",
       "      <td>[Chorus]\\nLife is changing every moment\\nSomet...</td>\n",
       "    </tr>\n",
       "    <tr>\n",
       "      <th>1</th>\n",
       "      <td>Nagada Sang Dhol</td>\n",
       "      <td>Shreya Ghoshal, Osman Mir</td>\n",
       "      <td>[Chorus 1]\\nहे धिन तड़ाक धिन तड़ाक\\nआजा उड़ के...</td>\n",
       "      <td>hi</td>\n",
       "      <td>[Chorus 1]\\nHey tad tadak dhin tadak\\nAaja uda...</td>\n",
       "    </tr>\n",
       "    <tr>\n",
       "      <th>2</th>\n",
       "      <td>Channa Mereya</td>\n",
       "      <td>Pritam, Arijit Singh</td>\n",
       "      <td>[Verse 1]\\nअच्छा चलता हूँ\\nदुआओं में याद रखना\\...</td>\n",
       "      <td>hi</td>\n",
       "      <td>[Verse 1]\\nGood walk\\nRemember in prayers\\nTo ...</td>\n",
       "    </tr>\n",
       "    <tr>\n",
       "      <th>0</th>\n",
       "      <td>Sugar</td>\n",
       "      <td>Maroon 5</td>\n",
       "      <td>[Directed by David Dobkin]\\n\\n[Verse 1]\\nI'm h...</td>\n",
       "      <td>en</td>\n",
       "      <td>[Directed by David Dobkin]\\n\\n[Verse 1]\\nI'm h...</td>\n",
       "    </tr>\n",
       "    <tr>\n",
       "      <th>1</th>\n",
       "      <td>Havana (feat. Young Thug)</td>\n",
       "      <td>Camila Cabello, Young Thug</td>\n",
       "      <td>Oh!, so you want to hear the verse erh?\\nI dey...</td>\n",
       "      <td>en</td>\n",
       "      <td>Oh!, so you want to hear the verse erh?\\nI dey...</td>\n",
       "    </tr>\n",
       "  </tbody>\n",
       "</table>\n",
       "</div>"
      ],
      "text/plain": [
       "                       title                          artist  \\\n",
       "0              Kal Ho Naa Ho  Shankar-Ehsaan-Loy, Sonu Nigam   \n",
       "1           Nagada Sang Dhol       Shreya Ghoshal, Osman Mir   \n",
       "2              Channa Mereya            Pritam, Arijit Singh   \n",
       "0                      Sugar                        Maroon 5   \n",
       "1  Havana (feat. Young Thug)      Camila Cabello, Young Thug   \n",
       "\n",
       "                                              lyrics lang  \\\n",
       "0  [Chorus]\\nहर घड़ी बदल रही है रूप ज़िंदगी\\nछाँव...   hi   \n",
       "1  [Chorus 1]\\nहे धिन तड़ाक धिन तड़ाक\\nआजा उड़ के...   hi   \n",
       "2  [Verse 1]\\nअच्छा चलता हूँ\\nदुआओं में याद रखना\\...   hi   \n",
       "0  [Directed by David Dobkin]\\n\\n[Verse 1]\\nI'm h...   en   \n",
       "1  Oh!, so you want to hear the verse erh?\\nI dey...   en   \n",
       "\n",
       "                                      english_lyrics  \n",
       "0  [Chorus]\\nLife is changing every moment\\nSomet...  \n",
       "1  [Chorus 1]\\nHey tad tadak dhin tadak\\nAaja uda...  \n",
       "2  [Verse 1]\\nGood walk\\nRemember in prayers\\nTo ...  \n",
       "0  [Directed by David Dobkin]\\n\\n[Verse 1]\\nI'm h...  \n",
       "1  Oh!, so you want to hear the verse erh?\\nI dey...  "
      ]
     },
     "execution_count": 24,
     "metadata": {},
     "output_type": "execute_result"
    }
   ],
   "source": [
    "df = lang_transform(df)\n",
    "df.head()"
   ]
  },
  {
   "cell_type": "code",
   "execution_count": 27,
   "metadata": {},
   "outputs": [
    {
     "data": {
      "text/plain": [
       "['[Chorus]\\nLife is changing every moment\\nSometimes there is sunshine\\nLive here every moment\\nWhich is not tomorrow\\nLife is changing every moment\\nSometimes there is sunshine\\nLive here every moment\\nWhich is not tomorrow\\n\\n[Verse 1]\\nEven if you wholeheartedly\\nBarely gets\\nSomeone who is somewhere\\nShe is the only one\\nHold that hand\\nMay it not be tomorrow\\n\\n[Chorus]\\nLive here every moment\\nWhich is not tomorrow\\n\\n[Verse 2]\\nEyelashes\\nSomeone who came\\nTake care of a million crazy hearts\\nHeart beats\\nBut think this is the moment\\nMay that tale not happen tomorrow\\n\\n[Chorus]\\nLife is changing every moment\\nSometimes there is sunshine\\nLive here every moment\\nWhich is not tomorrow\\nLive here every moment\\nWhich is not tomorrow\\n\\n[Outro]\\nWhich is not tomorrow',\n",
       " \"[Chorus 1]\\nHey tad tadak dhin tadak\\nAaja uda ke sarat\\nLittle shell from feet\\n\\n[Refrain]\\nDrum with drums, drum drums\\nThank you thank you thank you\\nDrum with drums, drum drums\\nCary cary cary fary cary cary\\n\\n[Chorus 1]\\nHey tad tadak dhin tadak\\nAaja uda ke sarat\\nLittle shell from feet\\n\\n[Refrain]\\nDrum with drums, drum drums\\nThank you thank you thank you\\nDrum with drums, drum drums\\nCary cary cary fary cary cary\\n\\n[Verse 1]\\nRe knock\\nBaaja dastak woh na na aaya aaya\\nRay since then since then yes see\\nNow you open your arms today\\n\\n[Chorus 2]\\nGo round and round\\nLyrics of Gunje re balam\\n\\n[Refrain]\\nDrum with drums, drum drums\\nThank you thank you thank you\\nDrum with drums, drum drums\\nCary cary cary fary cary cary\\n\\n[Chorus 1]\\nHey tad tadak dhin tadak\\nAaja uda ke sarat\\nLittle shell from feet\\n\\n[Refrain]\\nDrum with drums, drum drums\\nThank you thank you thank you\\nDrum with drums, drum drums\\nCary cary cary fary cary cary\\n\\n[Bridge]\\nLily Lemdi Ray\\nNo leave\\nPrabhu Pardh Na Re\\nGo round the corner\\nDon't take off\\nMar Gher Sita Juve Wat\\nSita Ekla Re Juve Ram-Lakhman Ni Wat\\n\\n[Verse 2]\\nO moment by moment, every moment passes\\nCome dance now\\nRay Thurr Thurr, yes tremor thurr\\nYes fear no more fear no more\\n\\n[Chorus 3]\\nSpoke in gardens, said ray\\nMore badla re geography of heart\\n\\n[Refrain]\\nDrum with drums, drum drums\\nThank you thank you thank you\\nDrum with drums, drum drums\\nCary cary cary fary cary cary\\n\\n[Chorus 1]\\nHey tad tadak dhin tadak\\nAaja uda ke sarat\\nLittle shell from feet\\n\\n[Refrain]\\nDrum with drums, drum drums\\nThank you thank you thank you\\nDrum with drums, drum drums\\nCary cary cary fary cary cary\\nDrum with drums, drum drums\\nThank you thank you thank you\\nDrum with drums, drum drums\\nCary cary cary fary cary cary\\nDrum with drums, drum drums\\nThank you thank you thank you\\nDrum with drums, drum drums\\nCary cary cary fary cary cary\\n\\n[Bridge]\\nLily Lemdi Ray\\nNo leave\\nPrabhu Pardh Na Re\\nGo round the corner\\nDon't take off\\nMar Gher Sita Juve Wat\\nSita Ekla Re Juve Ram-Lakhman Ni Wat\\n\\n[Outro]\\nHey… ho… drum drums…\",\n",
       " '[Verse 1]\\nGood walk\\nRemember in prayers\\nTo taste my zicker\\nGood walk\\nRemember in prayers\\nTo taste my zicker\\nIn the heart of the heart\\nKeep my good work\\nEven in letter wires\\nSalute me\\n\\n[Pre-Chorus]\\nI took you in the dark\\nMy bright star is named for you\\n\\n[Chorus]\\nChanna Mereya, Mereya\\nChanna Mereya, Mereya\\nChanna Mereya, Mereya, Belia\\nO drank\\nChanna Mereya, Mereya\\nChanna Mereya, Mereya\\nChanna Mereya, Mereya, Belia\\nO drank\\nO drank\\nDrank\\nO drank\\n\\n[Verse 2]\\nTeri mein\\nWe shall not live\\nNot sorry\\nNot sorry\\nHow about our near\\nNo less\\nNo less\\n\\n[Pre-Chorus]\\nHow many times have I got to sleep\\nSitting in your yard\\nI did the evening\\n\\n[Chorus]\\nChanna Mereya, Mereya\\nChanna Mereya, Mereya\\nChanna Mereya, Mereya, Belia\\nO drank\\nChanna Mereya, Mereya\\nChanna Mereya, Mereya\\nChanna Mereya, Mereya, Belia\\nO drank\\nO drank\\nChanna Mereya, Mereya\\nChanna Mereya, Mereya\\nChanna Mereya, Mereya\\nO drank\\nChanna Mereya, Mereya\\nChanna Mereya, Mereya\\nChanna Mereya, Mereya\\nO drank\\n\\n[Bridge]\\nYour way\\nBend over\\nI am sandalwood\\nLeave your scent\\nKeep you in mind\\nUnder the pillow\\nBairagi Bairagi Cotton Chaula\\nGo on\\n\\n[Chorus]\\nChanna Mereya, Mereya\\nChanna Mereya, Mereya\\nChanna Mereya, Mereya\\nO drank',\n",
       " \"[Directed by David Dobkin]\\n\\n[Verse 1]\\nI'm hurting baby, I'm broken down\\nI need your loving, loving I need it now\\nWhen I'm without you, I'm something weak\\nYou got me begging, begging I'm on my knees\\n\\n[Pre-Chorus]\\nI don't wanna be needing your love\\nI just wanna be deep in your love\\nAnd it's killing me when you're away\\nOoh baby\\n'Cause I really don't care where you are\\nI just wanna be there where you are\\nAnd I gotta get one little taste\\n\\n[Chorus]\\nSugar, yes please\\nWon't you come and put it down on me?\\nI'm right here, 'cause I need\\nLittle love, a little sympathy\\nYeah, you show me good loving, make it alright\\nNeed a little sweetness in my life\\nYour sugar, yes please\\nWon't you come and put it down on me?\\n\\n[Verse 2]\\nBabe, my broken pieces, you pick them up\\nDon't leave me hanging, hanging\\nCome give me some\\nWhen I'm without you, I'm so insecure\\nYou are the one thing, one thing I'm living for\\n\\n[Pre-Chorus]\\nI don't wanna be needing your love\\nI just wanna be deep in your love\\nAnd it's killing me when you're away\\nOoh baby\\n'Cause I really don't care where you are\\nI just wanna be there where you are\\nAnd I gotta get one little taste\\n\\n[Chorus]\\nSugar, yes please\\nWon't you come and put it down on me?\\nI'm right here, 'cause I need\\nLittle love, a little sympathy\\nYeah, you show me good loving, make it alright\\nNeed a little sweetness in my life\\nYour sugar, yes please (Your sugar, yes please)\\nWon't you come and put it down on me?\\n\\n[Bridge]\\nYeah\\nI want that red velvet\\nI want that sugar sweet\\nDon't let nobody touch it unless that somebody's me\\nI gotta be a man, there ain't no other way\\n'Cause girl you're hotter than a Southern California day\\nNever wanna play no games, you don't gotta  be afraid\\nDon't give me all that shy shit\\nNo makeup on, that's my sugar\\n\\n[Chorus]\\nSugar, yes please (Please)\\nWon't you come and put it down on me? (Down on me)\\nI'm right here, 'cause I need (I'm right here, 'cause I need)\\nLittle love, a little sympathy\\nYeah, you show me good loving, make it alright\\nNeed a little sweetness in my life (Yeah)\\nYour sugar, yes please (Your sugar, yes please)\\nWon't you come and put it down on me? (Down on me)\\nSugar, yes please\\nWon't you come and put it down on me?\\nI'm right here, 'cause I need (I'm right here, 'cause I need)\\nLittle love, a little sympathy\\nYeah, you show me good loving, make it alright\\nNeed a little sweetness in my life\\nYour sugar, yes please (Your sugar, yes please)\\nWon't you come and put it down on me?\\n(Down on me, down on me, ooh)\",\n",
       " 'Oh!, so you want to hear the verse erh?\\nI dey keep the fire burning no dey quench erh\\nI dey chop rappers for supper then dessert erh\\nThat be why your girl dey dig me like a trench erh\\nJust a few support a brother Chale thanks erh\\nSmallest time mehn the Grind go manifest erh\\nE No be gidigidi Chale no be resh erh\\nNa s3 wak) pim dier aaa k) reverse erh\\nYou no dey see me e b the focus on your lense erh?\\nFlow no ay3 nya e b like e dey ferment erh?\\nThe game is a bitch I dey gbee am for the tsu 33 s33\\nOh yes I came in the game oh she dey preg erh?\\nFuck school said the nigga with the less fears\\nSekof niggas for the class no dey learn sense\\nSekof niggas just dey pass just to take coins\\nQuiet niggas dema money wey dey make noise\\nTry a nigga never cha you go regret erh\\nFeeling brother but chale if I vex erh\\nAll my hustlers out there all the best erh\\nOn the road one time we go catch erh',\n",
       " \"[Intro]\\nNah, nah, nah\\nCake by the ocean\\n\\n[Verse 1]\\nOh, no\\nSee you walking 'round like it's a funeral\\nNot so serious girl, why those feet cold?\\nWe just getting started, don't you tiptoe, tiptoe\\n\\n[Pre-Chorus]\\nWaste time with a masterpiece, don't waste time with a masterpiece (Huh)\\nYou should be rollin' with me, you should be rollin' with me (Ahh)\\nYou're a real-life fantasy, you're a real-life fantasy (Huh)\\nBut you're movin' so carefully, let's start livin' dangerously\\n\\n[Chorus]\\nTalk to me, baby\\nI'm goin' blind from this sweet sweet craving, whoa-oh\\nLet's lose our minds and go fucking crazy\\nAh, ya, ya, ya, ya, I keep on hopin' we'll eat cake by the ocean\\nWalk for me, baby\\nI'll be Diddy, you'll be Naomi, whoa-oh\\nLet's lose our minds and go fucking crazy\\nAh, ya, ya, ya, ya I keep on hopin' we'll eat cake by the ocean\\n\\n[Verse 2]\\nGoddamn\\nSee you licking frosting from your own hands\\nWant another taste, I'm begging, yes ma'am\\nI'm tired of all this candy on the dry land, dry land, ooh\\n\\n[Pre-Chorus]\\nWaste time with a masterpiece\\nDon't waste time with a masterpiece (Huh)\\nYou should be rollin' me, you should be rollin' me (Ahh)\\nYou're a real-life fantasy, you're a real-life fantasy (Huh)\\nBut you're movin' so carefully, let's start livin' dangerously, whoa\\n\\n[Chorus]\\nTalk to me, baby\\nI'm goin' blind from this sweet sweet craving, whoa-oh\\nLet's lose our minds and go fucking crazy (Ahh!)\\nAh, ya, ya, ya, ya, I keep on hopin' we'll eat cake by the ocean (Huh)\\nWalk for me, baby (Walk for me now)\\nI'll be Diddy, you'll be Naomi, whoa-oh\\nLet's lose our minds and go fucking crazy\\nAh, ya, ya, ya, ya, I keep on hopin' we'll eat cake by the ocean (Yeah, yeah)\\n\\n[Refrain]\\nOoh, ah, ah\\nAh, ya, ya, ya, ya, I keep on hopin' we'll eat cake by the ocean\\nOoh, ah, ah\\nAh, ya, ya, ya, ya, I keep on hopin' we'll eat cake by the ocean\\n\\n[Bridge]\\nYou're fucking delicious, haha\\nTalk to me, girl\\n\\n[Chorus]\\nTalk to me, baby (Talk to me, baby)\\nI'm goin' blind from this sweet sweet craving, whoa-oh\\nLet's lose our minds and go fucking crazy\\nAh, ya, ya, ya, ya, I keep on hopin' we'll eat cake by the ocean (Hey)\\nWalk for me, baby (Walk for me now)\\nI'll be Diddy, you'll be Naomi, whoa-oh\\nLet's lose our minds and go (And go what?) fucking crazy (That's right)\\nAh, ya, ya, ya, ya I keep on hopin' we'll eat cake by the ocean (I keep on hopin', hot damn)\\n\\n[Outro]\\nRed velvet, vanilla, chocolate in my life\\nFunfetti, I'm ready; I need it every night\\nRed velvet, vanilla, chocolate in my life\\nAh, ya, ya, ya, ya, I keep on hopin' we'll eat cake by the ocean\",\n",
       " \"[DNA lyrics of BTS]\\n\\n[Verse 1: V]\\nI got to know you at first sight\\nAs if I had called each other\\nThe DNA in my veins tell me\\nThat I've been looking for you\\n\\n[Verse 2: J-Hope, RM]\\nOur meeting is a mathematical formula\\nLaw of religion universe providence\\nEvidence of fate given to me\\nYou are the source of my dreams\\nTake it take it\\nMy hand reaching out to you is a determined fate\\n\\n[Pre-Chorus: Jungkook, V]\\nDon't worry love\\nIt's not a coincidence\\nWe are completely different baby\\nBecause they found the fate\\n\\n[Chorus: Jimin, Jungkook]\\nFrom the day the universe was formed\\nContinue beyond the infinite century\\nWe are in the previous life, maybe in the next life\\nForever together\\n\\n[Hook: Jungkook, Jimin, BTS]\\nIt's not a coincidence\\nBecause they found the fate\\nDNA\\n\\n[Verse 3: Suga, RM]\\nI want it this love I want it real love\\nI only focus on you\\nLead me harder\\nThe original DNA wants you\\nThis is inevitable I love us\\nOnly we are true lovers\\n\\n[Verse 4: Jungkook, Suga]\\nEvery time I see her, I'm surprised\\nIt's strange that I keep breathing strangely\\nIs this the feeling of love that I only heard in words?\\nFrom the beginning my heart runs towards you\\n\\n[Pre-Chorus: Jin]\\nDon't worry love\\nIt's not a coincidence\\nWe are completely different baby\\nBecause they found the fate\\n\\n[Chorus: Jungkook, Jimin]\\nFrom the day the universe was formed\\nContinue beyond the infinite century\\nWe are in the previous life, maybe in the next life\\nForever together\\n\\n[Hook: Jungkook, Jimin, BTS]\\nIt's not a coincidence\\nBecause they found the fate\\nDNA\\n\\n[Bridge: V, *Jin*, Jungkook, Jimin]\\nDon't look back\\nBecause we found fate\\n*Don't regret baby\\nforever*\\nforever\\nforever\\nforever\\nTogether\\n\\n[Pre-Chorus: Jimin, Jungkook, BTS]\\nDon't worry love\\nIt's not a coincidence\\nWe are completely different baby\\nBecause they found the fate\\nDNA\\n\\n[Outro: J-Hope, Jungkook, BTS]\\nLa la la la la\\nLa la la la la\\nIt's not a coincidence\\nLa la la la la\\nLa la la la la\\nIt's not a coincidence\\nDNA\",\n",
       " \"[BI]\\nWe met in love\\nIt became a memory I couldn't erase\\nWorth seeing melodrama\\nA good ending\\nThat's enough, I loved you\\n\\n[Jay]\\nOur love scenario\\nNow the light goes off\\nTurning the last page\\nQuietly ending\\n\\n[Bobby]\\nHey, it's not okay, but facing Farewell\\nThere is no more tomorrow in our yesterday that was today\\nEven though it hurts, I dragged it more because the wound is yeah eh, eh\\nI loved you and loved you so I made it yeah eh, eh\\n\\n[DK]\\nI sometimes remember as I live\\nIf you are in it, that’s enough.\\n\\n[Ju-Ne]\\nWe met in love\\nIt became a memory I couldn't erase\\nWorth seeing melodrama\\nA good ending\\nThat's enough, I loved you\\n\\n[Jay]\\nOur love scenario\\nNow the light goes off\\nTurning the last page\\nQuietly ending\\n\\n[BI]\\nOoh, the tingling feeling between the ribs\\nEyes that let me know that I'm loved\\nI learned a lot from you, I filled the half\\nHe was too precious to leave in the past.\\n\\n[Jay]\\nI sometimes remember as I live\\nIf you are in it, that’s enough.\\n\\n[Ju-Ne]\\nWe met in love\\nIt became a memory I couldn't erase\\nWorth seeing melodrama\\nA good ending\\nThat's enough, I loved you\\n\\n[Song]\\nI already miss you, but I don't want to miss you\\nI'll remember you with a warm spring in a movie\\n\\n[All, Bobby]\\nOur love scenario\\nNow the light goes off\\nTurning the last page\\nQuietly ending (woo!)\\n\\n[Chan, Bobby]\\nWe tried to hurt (oh, hey!)\\nI was jealous too (hey, hey, oh!)\\nI loved like crazy (I ain't gonna love ya)\\nWe were enough (I was your love)\\n\\n[Bobby]\\nWe met in love\\nThat's enough, I loved you\",\n",
       " '[Momoland \"pumppump\" lyrics]\\n\\n[Intro: All]\\nJust feel it\\n(Yeah)\\n\\n[Verse 1: Daisy, Yeonwoo, Ahin]\\nIt\\'s exciting, you and my rendezvous (rendezvous)\\nHear my heart and let it go\\nNow in my eyes, in my eyes, in my eyes, your shoulders, knees and feet (Oh)\\nI feel like I\\'m choking, when I see you\\n\\n[Verse 2: Hyebin, Nayun, Ahin]\\nWow wow let go of your mind again to your charm\\nI\\'m surprised again (Hit it, hit it, hit it, ho!)\\nWhoa, what do you need to say\\nI think I\\'m going to choke\\n\\n[Pre-Chorus 1: Taeha, Jane]\\nKeep looking, keep coming\\nNow you\\'ll only see me\\nI\\'ll listen to you and let you go\\nMore and more fall in love\\n\\n[Chorus: Nancy, JooE]\\nGive it to you, my eyes eyes eyes eyes eyes eyes eyes\\nPouring my to-to-to-to-to-to-touch\\nOnly one, my lo-lo-lo-lo-love, my lover\\nFrom my head\\nSpout to my toes!\\n\\n[Post-Chorus: All]\\nJust feel it\\nI spit out in front of you\\nI\\'ll give it to you (Yeah)\\n\\n[Verse 3: Daisy, JooE, Both]\\nWhat you\\'re seeing is not a dream, wake up, wake up\\nClink and meet me, take off, take off\\nI\\'m breathing my charm\\nI\\'ll show you, pick up the phone, now or never, pick up, pick up\\n\\n[Verse 4: Hyebin, Nayun, Ahin]\\nWow wow, my heart is thumping\\nAgain, no matter how much (Hit it, hit it, hit it, ho!)\\nWhoa, how and what more\\nYou must be crazy day or night\\n\\n[Pre-Chorus 2: Jane, Taeha]\\nI\\'m trembling\\nNow you will only think of me\\nI can\\'t sleep well at night\\nMore and more fall in love\\n\\n[Chorus: Nancy, JooE]\\nGive it to you, my eyes eyes eyes eyes eyes eyes eyes\\nPouring my to-to-to-to-to-to-touch\\nOnly one, my lo-lo-lo-lo-love, my lover\\nFrom my head\\nSpout to my toes!\\n\\n[Bridge: Yeonwoo]\\nOoh, when I see you, when I see you\\nMy heart is spitting (splashing)\\nOoh, I keep looking, I keep looking\\nMy heart is thumping\\n\\n[Chorus: Nancy, JooE]\\nGive it to you, my eyes eyes eyes eyes eyes eyes eyes\\nPouring my to-to-to-to-to-to-touch\\nOnly one, my lo-lo-lo-lo-love, my lover\\nFrom my head\\nSpout to my toes!\\n\\n[Post-Chorus: All]\\nJust feel it\\nI spit out in front of you\\nI\\'ll give it to you (Yeah)']"
      ]
     },
     "execution_count": 27,
     "metadata": {},
     "output_type": "execute_result"
    }
   ],
   "source": [
    "df[\"english_lyrics\"].tolist()"
   ]
  },
  {
   "cell_type": "code",
   "execution_count": 48,
   "metadata": {},
   "outputs": [],
   "source": [
    "# regex to remove anything in brackets\n",
    "def clean_musical_indicators(lyrics):\n",
    "    lyric_capture = r\"\\[.*?\\]\"\n",
    "    result = re.sub(lyric_capture,'', lyrics) \n",
    "    return result\n",
    "\n",
    "# fix all the newlining\n",
    "def fix_newlines(lyrics):\n",
    "    newline_capture = r\"\\s+\"\n",
    "    result = re.sub(newline_capture, ' ', lyrics)\n",
    "    return result\n",
    "\n",
    "# change language codes to full language name\n",
    "def full_lang(iso_code):\n",
    "    lang = pycountry.languages.get(alpha_2=iso_code)\n",
    "    return str(lang.name)\n",
    "\n",
    "# apply all cleaning functions\n",
    "def clean_lyrics(df):\n",
    "    df[\"lyrics\"] = df[\"english_lyrics\"].apply(clean_musical_indicators)\n",
    "    df[\"lyrics\"] = df[\"lyrics\"].apply(fix_newlines)\n",
    "    df[\"lyrics\"] = df[\"lyrics\"].apply(str.lower)\n",
    "    df = df.drop([\"english_lyrics\"], axis=1)\n",
    "    df[\"lang\"] = df[\"lang\"].apply(full_lang).apply(str.lower)\n",
    "    return df"
   ]
  },
  {
   "cell_type": "code",
   "execution_count": 49,
   "metadata": {},
   "outputs": [
    {
     "data": {
      "text/html": [
       "<div>\n",
       "<style scoped>\n",
       "    .dataframe tbody tr th:only-of-type {\n",
       "        vertical-align: middle;\n",
       "    }\n",
       "\n",
       "    .dataframe tbody tr th {\n",
       "        vertical-align: top;\n",
       "    }\n",
       "\n",
       "    .dataframe thead th {\n",
       "        text-align: right;\n",
       "    }\n",
       "</style>\n",
       "<table border=\"1\" class=\"dataframe\">\n",
       "  <thead>\n",
       "    <tr style=\"text-align: right;\">\n",
       "      <th></th>\n",
       "      <th>title</th>\n",
       "      <th>artist</th>\n",
       "      <th>lyrics</th>\n",
       "      <th>lang</th>\n",
       "    </tr>\n",
       "  </thead>\n",
       "  <tbody>\n",
       "    <tr>\n",
       "      <th>0</th>\n",
       "      <td>Kal Ho Naa Ho</td>\n",
       "      <td>Shankar-Ehsaan-Loy, Sonu Nigam</td>\n",
       "      <td>life is changing every moment sometimes there...</td>\n",
       "      <td>hindi</td>\n",
       "    </tr>\n",
       "    <tr>\n",
       "      <th>1</th>\n",
       "      <td>Nagada Sang Dhol</td>\n",
       "      <td>Shreya Ghoshal, Osman Mir</td>\n",
       "      <td>hey tad tadak dhin tadak aaja uda ke sarat li...</td>\n",
       "      <td>hindi</td>\n",
       "    </tr>\n",
       "    <tr>\n",
       "      <th>2</th>\n",
       "      <td>Channa Mereya</td>\n",
       "      <td>Pritam, Arijit Singh</td>\n",
       "      <td>good walk remember in prayers to taste my zic...</td>\n",
       "      <td>hindi</td>\n",
       "    </tr>\n",
       "    <tr>\n",
       "      <th>0</th>\n",
       "      <td>Sugar</td>\n",
       "      <td>Maroon 5</td>\n",
       "      <td>i'm hurting baby, i'm broken down i need your...</td>\n",
       "      <td>english</td>\n",
       "    </tr>\n",
       "    <tr>\n",
       "      <th>1</th>\n",
       "      <td>Havana (feat. Young Thug)</td>\n",
       "      <td>Camila Cabello, Young Thug</td>\n",
       "      <td>oh!, so you want to hear the verse erh? i dey ...</td>\n",
       "      <td>english</td>\n",
       "    </tr>\n",
       "    <tr>\n",
       "      <th>2</th>\n",
       "      <td>Cake By The Ocean</td>\n",
       "      <td>DNCE</td>\n",
       "      <td>nah, nah, nah cake by the ocean oh, no see yo...</td>\n",
       "      <td>english</td>\n",
       "    </tr>\n",
       "    <tr>\n",
       "      <th>0</th>\n",
       "      <td>DNA</td>\n",
       "      <td>BTS</td>\n",
       "      <td>i got to know you at first sight as if i had ...</td>\n",
       "      <td>korean</td>\n",
       "    </tr>\n",
       "    <tr>\n",
       "      <th>1</th>\n",
       "      <td>LOVE SCENARIO</td>\n",
       "      <td>iKON</td>\n",
       "      <td>we met in love it became a memory i couldn't ...</td>\n",
       "      <td>korean</td>\n",
       "    </tr>\n",
       "    <tr>\n",
       "      <th>2</th>\n",
       "      <td>BBoom BBoom</td>\n",
       "      <td>MOMOLAND</td>\n",
       "      <td>just feel it (yeah) it's exciting, you and my...</td>\n",
       "      <td>korean</td>\n",
       "    </tr>\n",
       "  </tbody>\n",
       "</table>\n",
       "</div>"
      ],
      "text/plain": [
       "                       title                          artist  \\\n",
       "0              Kal Ho Naa Ho  Shankar-Ehsaan-Loy, Sonu Nigam   \n",
       "1           Nagada Sang Dhol       Shreya Ghoshal, Osman Mir   \n",
       "2              Channa Mereya            Pritam, Arijit Singh   \n",
       "0                      Sugar                        Maroon 5   \n",
       "1  Havana (feat. Young Thug)      Camila Cabello, Young Thug   \n",
       "2          Cake By The Ocean                            DNCE   \n",
       "0                        DNA                             BTS   \n",
       "1              LOVE SCENARIO                            iKON   \n",
       "2                BBoom BBoom                        MOMOLAND   \n",
       "\n",
       "                                              lyrics     lang  \n",
       "0   life is changing every moment sometimes there...    hindi  \n",
       "1   hey tad tadak dhin tadak aaja uda ke sarat li...    hindi  \n",
       "2   good walk remember in prayers to taste my zic...    hindi  \n",
       "0   i'm hurting baby, i'm broken down i need your...  english  \n",
       "1  oh!, so you want to hear the verse erh? i dey ...  english  \n",
       "2   nah, nah, nah cake by the ocean oh, no see yo...  english  \n",
       "0   i got to know you at first sight as if i had ...   korean  \n",
       "1   we met in love it became a memory i couldn't ...   korean  \n",
       "2   just feel it (yeah) it's exciting, you and my...   korean  "
      ]
     },
     "execution_count": 49,
     "metadata": {},
     "output_type": "execute_result"
    }
   ],
   "source": [
    "clean_lyrics(df)"
   ]
  },
  {
   "cell_type": "code",
   "execution_count": null,
   "metadata": {},
   "outputs": [],
   "source": [
    "# PYTHON LIB THAT REMOVES PROFANIty???"
   ]
  }
 ],
 "metadata": {
  "kernelspec": {
   "display_name": "Python 3",
   "language": "python",
   "name": "python3"
  },
  "language_info": {
   "codemirror_mode": {
    "name": "ipython",
    "version": 3
   },
   "file_extension": ".py",
   "mimetype": "text/x-python",
   "name": "python",
   "nbconvert_exporter": "python",
   "pygments_lexer": "ipython3",
   "version": "3.7.3"
  }
 },
 "nbformat": 4,
 "nbformat_minor": 2
}
