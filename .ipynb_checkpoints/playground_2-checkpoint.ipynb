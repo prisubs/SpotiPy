{
 "cells": [
  {
   "cell_type": "code",
   "execution_count": 1,
   "metadata": {},
   "outputs": [],
   "source": [
    "from spotipy_playlist import SpotiPyPlaylistClient\n",
    "API_KEY = \"0AGGE0X9UYCDMkHxZWHojX0uBIaoHNZCQbfJO8hFx0g7nj9OJYEPJl2NzdBDdgtJ\""
   ]
  },
  {
   "cell_type": "code",
   "execution_count": 2,
   "metadata": {},
   "outputs": [],
   "source": [
    "client = SpotiPyPlaylistClient(API_KEY)"
   ]
  },
  {
   "cell_type": "code",
   "execution_count": 3,
   "metadata": {},
   "outputs": [
    {
     "name": "stdout",
     "output_type": "stream",
     "text": [
      "Searching for \"Señorita\" by Shawn Mendes, Camila Cabello...\n",
      "Done.\n",
      "Searching for \"Fine China\" by Future, Juice WRLD...\n",
      "Done.\n",
      "Searching for \"Nagada Sang Dhol\" by Shreya Ghoshal, Osman Mir...\n",
      "Done.\n",
      "Searching for \"FAKE LOVE (Rocking Vibe Mix)\" by BTS...\n",
      "Done.\n",
      "Searching for \"Feelings\" by Maroon 5...\n",
      "Done.\n",
      "Searching for \"Old Town Road - Diplo Remix\" by Lil Nas X, Billy Ray Cyrus, Diplo...\n",
      "Done.\n",
      "Searching for \"Why\" by Bazzi...\n",
      "Done.\n",
      "Searching for \"Without Me\" by Halsey...\n",
      "Done.\n",
      "Searching for \"Vertigo\" by Khalid...\n",
      "Done.\n",
      "Searching for \"Noticed\" by Lil Mosey...\n",
      "Done.\n",
      "Searching for \"Panini\" by Lil Nas X...\n",
      "Done.\n"
     ]
    },
    {
     "data": {
      "text/html": [
       "<div>\n",
       "<style scoped>\n",
       "    .dataframe tbody tr th:only-of-type {\n",
       "        vertical-align: middle;\n",
       "    }\n",
       "\n",
       "    .dataframe tbody tr th {\n",
       "        vertical-align: top;\n",
       "    }\n",
       "\n",
       "    .dataframe thead th {\n",
       "        text-align: right;\n",
       "    }\n",
       "</style>\n",
       "<table border=\"1\" class=\"dataframe\">\n",
       "  <thead>\n",
       "    <tr style=\"text-align: right;\">\n",
       "      <th></th>\n",
       "      <th>title</th>\n",
       "      <th>artist</th>\n",
       "      <th>lyrics</th>\n",
       "    </tr>\n",
       "  </thead>\n",
       "  <tbody>\n",
       "    <tr>\n",
       "      <th>0</th>\n",
       "      <td>Señorita</td>\n",
       "      <td>Shawn Mendes, Camila Cabello</td>\n",
       "      <td>[Chorus: Camila Cabello]\\nI love it when you c...</td>\n",
       "    </tr>\n",
       "    <tr>\n",
       "      <th>1</th>\n",
       "      <td>Fine China</td>\n",
       "      <td>Future, Juice WRLD</td>\n",
       "      <td>[Intro: Future &amp; Juice WRLD]\\nThe world on dru...</td>\n",
       "    </tr>\n",
       "    <tr>\n",
       "      <th>2</th>\n",
       "      <td>Nagada Sang Dhol</td>\n",
       "      <td>Shreya Ghoshal, Osman Mir</td>\n",
       "      <td>[Chorus 1]\\nहे धिन तड़ाक धिन तड़ाक\\nआजा उड़ के...</td>\n",
       "    </tr>\n",
       "    <tr>\n",
       "      <th>3</th>\n",
       "      <td>FAKE LOVE (Rocking Vibe Mix)</td>\n",
       "      <td>BTS</td>\n",
       "      <td>[방탄소년단의 Fake Love (Rocking Vibe Mix) 가사]\\n\\n[I...</td>\n",
       "    </tr>\n",
       "    <tr>\n",
       "      <th>4</th>\n",
       "      <td>Feelings</td>\n",
       "      <td>Maroon 5</td>\n",
       "      <td>[Intro]\\nWoo, woo!\\nOh, yeah\\n\\n[Verse 1]\\nYou...</td>\n",
       "    </tr>\n",
       "    <tr>\n",
       "      <th>5</th>\n",
       "      <td>Old Town Road - Diplo Remix</td>\n",
       "      <td>Lil Nas X, Billy Ray Cyrus, Diplo</td>\n",
       "      <td>[Intro: Billy Ray Cyrus]\\nOh, oh-oh\\nOh\\n\\n[Re...</td>\n",
       "    </tr>\n",
       "    <tr>\n",
       "      <th>6</th>\n",
       "      <td>Why</td>\n",
       "      <td>Bazzi</td>\n",
       "      <td>[Verse 1]\\nI'm still on your Netflix\\nGirl, I ...</td>\n",
       "    </tr>\n",
       "    <tr>\n",
       "      <th>7</th>\n",
       "      <td>Without Me</td>\n",
       "      <td>Halsey</td>\n",
       "      <td>[Verse 1]\\nFound you when your heart was broke...</td>\n",
       "    </tr>\n",
       "    <tr>\n",
       "      <th>8</th>\n",
       "      <td>Vertigo</td>\n",
       "      <td>Khalid</td>\n",
       "      <td>[Verse 1]\\nAre we better off believing\\nWhat t...</td>\n",
       "    </tr>\n",
       "    <tr>\n",
       "      <th>9</th>\n",
       "      <td>Noticed</td>\n",
       "      <td>Lil Mosey</td>\n",
       "      <td>[Intro]\\nUghh\\nYeah, yeah\\nAyy Royce, you did ...</td>\n",
       "    </tr>\n",
       "    <tr>\n",
       "      <th>10</th>\n",
       "      <td>Panini</td>\n",
       "      <td>Lil Nas X</td>\n",
       "      <td>[Intro: Nessly]\\nDaytrip took it to 10 (Hey)\\n...</td>\n",
       "    </tr>\n",
       "  </tbody>\n",
       "</table>\n",
       "</div>"
      ],
      "text/plain": [
       "                           title                             artist  \\\n",
       "0                       Señorita       Shawn Mendes, Camila Cabello   \n",
       "1                     Fine China                 Future, Juice WRLD   \n",
       "2               Nagada Sang Dhol          Shreya Ghoshal, Osman Mir   \n",
       "3   FAKE LOVE (Rocking Vibe Mix)                                BTS   \n",
       "4                       Feelings                           Maroon 5   \n",
       "5    Old Town Road - Diplo Remix  Lil Nas X, Billy Ray Cyrus, Diplo   \n",
       "6                            Why                              Bazzi   \n",
       "7                     Without Me                             Halsey   \n",
       "8                        Vertigo                             Khalid   \n",
       "9                        Noticed                          Lil Mosey   \n",
       "10                        Panini                          Lil Nas X   \n",
       "\n",
       "                                               lyrics  \n",
       "0   [Chorus: Camila Cabello]\\nI love it when you c...  \n",
       "1   [Intro: Future & Juice WRLD]\\nThe world on dru...  \n",
       "2   [Chorus 1]\\nहे धिन तड़ाक धिन तड़ाक\\nआजा उड़ के...  \n",
       "3   [방탄소년단의 Fake Love (Rocking Vibe Mix) 가사]\\n\\n[I...  \n",
       "4   [Intro]\\nWoo, woo!\\nOh, yeah\\n\\n[Verse 1]\\nYou...  \n",
       "5   [Intro: Billy Ray Cyrus]\\nOh, oh-oh\\nOh\\n\\n[Re...  \n",
       "6   [Verse 1]\\nI'm still on your Netflix\\nGirl, I ...  \n",
       "7   [Verse 1]\\nFound you when your heart was broke...  \n",
       "8   [Verse 1]\\nAre we better off believing\\nWhat t...  \n",
       "9   [Intro]\\nUghh\\nYeah, yeah\\nAyy Royce, you did ...  \n",
       "10  [Intro: Nessly]\\nDaytrip took it to 10 (Hey)\\n...  "
      ]
     },
     "execution_count": 3,
     "metadata": {},
     "output_type": "execute_result"
    }
   ],
   "source": [
    "client.playlist_lyrics(\n",
    "    \"https://open.spotify.com/playlist/13So88tnFPcYia9aeXRAQ3?si=VpFOd40KTlaxz6SuN_QM6g\"\n",
    ")"
   ]
  },
  {
   "cell_type": "code",
   "execution_count": 4,
   "metadata": {},
   "outputs": [
    {
     "data": {
      "text/plain": [
       "{'name': 'Prianka Subrahmanyam',\n",
       " 'playlists': ['sentient machines',\n",
       "  'meme tunes',\n",
       "  'banana leaf',\n",
       "  'oye hoye',\n",
       "  'jaana hudugi',\n",
       "  'nice soft feeling',\n",
       "  'sadboi hours',\n",
       "  'serotonin rush',\n",
       "  'edgy',\n",
       "  'hooligan booligan backyardigan',\n",
       "  'circa 1600',\n",
       "  'k-pop x vocaloid']}"
      ]
     },
     "execution_count": 4,
     "metadata": {},
     "output_type": "execute_result"
    }
   ],
   "source": [
    "client.user_playlists(\"https://open.spotify.com/user/31obw73wcndofulfje4bekzfyccy?si=6Bvjvn8YTmKVj_nAQ0mJ6g\")"
   ]
  },
  {
   "cell_type": "code",
   "execution_count": null,
   "metadata": {},
   "outputs": [],
   "source": []
  }
 ],
 "metadata": {
  "kernelspec": {
   "display_name": "Python 3",
   "language": "python",
   "name": "python3"
  },
  "language_info": {
   "codemirror_mode": {
    "name": "ipython",
    "version": 3
   },
   "file_extension": ".py",
   "mimetype": "text/x-python",
   "name": "python",
   "nbconvert_exporter": "python",
   "pygments_lexer": "ipython3",
   "version": "3.7.2"
  }
 },
 "nbformat": 4,
 "nbformat_minor": 2
}
