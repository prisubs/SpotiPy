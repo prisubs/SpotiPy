{
 "cells": [
  {
   "cell_type": "code",
   "execution_count": 2,
   "metadata": {},
   "outputs": [],
   "source": [
    "from spotipy_playlist import SpotiPyPlaylistClient\n",
    "API_KEY = \"0AGGE0X9UYCDMkHxZWHojX0uBIaoHNZCQbfJO8hFx0g7nj9OJYEPJl2NzdBDdgtJ\""
   ]
  },
  {
   "cell_type": "code",
   "execution_count": 3,
   "metadata": {},
   "outputs": [],
   "source": [
    "client = SpotiPyPlaylistClient(API_KEY)"
   ]
  },
  {
   "cell_type": "code",
   "execution_count": 4,
   "metadata": {},
   "outputs": [
    {
     "name": "stdout",
     "output_type": "stream",
     "text": [
      "Searching for \"Señorita\" by Shawn Mendes, Camila Cabello...\n",
      "Done.\n",
      "Searching for \"Fine China\" by Future, Juice WRLD...\n",
      "Done.\n",
      "Searching for \"Nagada Sang Dhol\" by Shreya Ghoshal, Osman Mir...\n",
      "Done.\n",
      "Searching for \"FAKE LOVE (Rocking Vibe Mix)\" by BTS...\n",
      "Done.\n",
      "Searching for \"Feelings\" by Maroon 5...\n",
      "Done.\n",
      "Searching for \"Old Town Road - Diplo Remix\" by Lil Nas X, Billy Ray Cyrus, Diplo...\n",
      "Done.\n",
      "Searching for \"Why\" by Bazzi...\n",
      "Done.\n",
      "Searching for \"Without Me\" by Halsey...\n",
      "Done.\n",
      "Searching for \"Vertigo\" by Khalid...\n",
      "Done.\n",
      "Searching for \"Noticed\" by Lil Mosey...\n",
      "Done.\n",
      "Searching for \"Panini\" by Lil Nas X...\n",
      "Done.\n",
      "                           title                             artist  \\\n",
      "0                       Señorita       Shawn Mendes, Camila Cabello   \n",
      "1                     Fine China                 Future, Juice WRLD   \n",
      "2               Nagada Sang Dhol          Shreya Ghoshal, Osman Mir   \n",
      "3   FAKE LOVE (Rocking Vibe Mix)                                BTS   \n",
      "4                       Feelings                           Maroon 5   \n",
      "5    Old Town Road - Diplo Remix  Lil Nas X, Billy Ray Cyrus, Diplo   \n",
      "6                            Why                              Bazzi   \n",
      "7                     Without Me                             Halsey   \n",
      "8                        Vertigo                             Khalid   \n",
      "9                        Noticed                          Lil Mosey   \n",
      "10                        Panini                          Lil Nas X   \n",
      "\n",
      "                                               lyrics  \n",
      "0   [Chorus: Camila Cabello]\\nI love it when you c...  \n",
      "1   [Intro: Future & Juice WRLD]\\nThe world on dru...  \n",
      "2   [Chorus 1]\\nहे धिन तड़ाक धिन तड़ाक\\nआजा उड़ के...  \n",
      "3   [방탄소년단의 Fake Love (Rocking Vibe Mix) 가사]\\n\\n[I...  \n",
      "4   [Intro]\\nWoo, woo!\\nOh, yeah\\n\\n[Verse 1]\\nYou...  \n",
      "5   [Intro: Billy Ray Cyrus]\\nOh, oh-oh\\nOh\\n\\n[Re...  \n",
      "6   [Verse 1]\\nI'm still on your Netflix\\nGirl, I ...  \n",
      "7   [Verse 1]\\nFound you when your heart was broke...  \n",
      "8   [Verse 1]\\nAre we better off believing\\nWhat t...  \n",
      "9   [Intro]\\nUghh\\nYeah, yeah\\nAyy Royce, you did ...  \n",
      "10  [Intro: Nessly]\\nDaytrip took it to 10 (Hey)\\n...  \n"
     ]
    }
   ],
   "source": [
    "df = client.playlist_lyrics(\n",
    "    \"https://open.spotify.com/playlist/13So88tnFPcYia9aeXRAQ3?si=VpFOd40KTlaxz6SuN_QM6g\"\n",
    ")\n",
    "print(df)"
   ]
  },
  {
   "cell_type": "code",
   "execution_count": 4,
   "metadata": {},
   "outputs": [
    {
     "data": {
      "text/plain": [
       "{'name': 'Prianka Subrahmanyam',\n",
       " 'playlists': ['sentient machines',\n",
       "  'meme tunes',\n",
       "  'banana leaf',\n",
       "  'oye hoye',\n",
       "  'jaana hudugi',\n",
       "  'nice soft feeling',\n",
       "  'sadboi hours',\n",
       "  'serotonin rush',\n",
       "  'edgy',\n",
       "  'hooligan booligan backyardigan',\n",
       "  'circa 1600',\n",
       "  'k-pop x vocaloid']}"
      ]
     },
     "execution_count": 4,
     "metadata": {},
     "output_type": "execute_result"
    }
   ],
   "source": [
    "client.user_playlists(\"https://open.spotify.com/user/31obw73wcndofulfje4bekzfyccy?si=6Bvjvn8YTmKVj_nAQ0mJ6g\")"
   ]
  },
  {
   "cell_type": "code",
   "execution_count": 5,
   "metadata": {},
   "outputs": [],
   "source": [
    "df.to_csv(\"docs1.csv\")"
   ]
  },
  {
   "cell_type": "code",
   "execution_count": null,
   "metadata": {},
   "outputs": [],
   "source": []
  }
 ],
 "metadata": {
  "kernelspec": {
   "display_name": "Python 3",
   "language": "python",
   "name": "python3"
  },
  "language_info": {
   "codemirror_mode": {
    "name": "ipython",
    "version": 3
   },
   "file_extension": ".py",
   "mimetype": "text/x-python",
   "name": "python",
   "nbconvert_exporter": "python",
   "pygments_lexer": "ipython3",
   "version": "3.7.2"
  }
 },
 "nbformat": 4,
 "nbformat_minor": 2
}
